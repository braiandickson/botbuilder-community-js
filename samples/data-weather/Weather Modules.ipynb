{
 "cells": [
  {
   "cell_type": "code",
   "execution_count": 2,
   "metadata": {},
   "outputs": [
    {
     "data": {
      "text/plain": [
       "{ parsed: { DARK_SKY_KEY: '5e6c034668aeb47c13233777e2868a1e' } }"
      ]
     },
     "execution_count": 2,
     "metadata": {},
     "output_type": "execute_result"
    }
   ],
   "source": [
    "require('dotenv').config();\n",
    "var ds = require('../../libraries/botbuilder-data-weather-darksky/lib/index')\n",
    "\n",
    "var settings = { key: process.env.DARK_SKY_KEY  };"
   ]
  },
  {
   "cell_type": "code",
   "execution_count": 5,
   "metadata": {},
   "outputs": [
    {
     "name": "stderr",
     "output_type": "stream",
     "text": [
      "(node:7332) UnhandledPromiseRejectionWarning: TypeError: Cannot read property 'summary' of undefined\n",
      "    at new DarkSkyForecast (C:\\Users\\micha\\x\\botbuilder-community-js\\libraries\\botbuilder-data-weather-darksky\\lib\\darkSky.js:24:46)\n",
      "    at C:\\Users\\micha\\x\\botbuilder-community-js\\libraries\\botbuilder-data-weather-darksky\\lib\\darkSky.js:212:16\n",
      "    at Generator.next (<anonymous>)\n",
      "    at fulfilled (C:\\Users\\micha\\x\\botbuilder-community-js\\libraries\\botbuilder-data-weather-darksky\\lib\\darkSky.js:5:58)\n",
      "(node:7332) UnhandledPromiseRejectionWarning: Unhandled promise rejection. This error originated either by throwing inside of an async function without a catch block, or by rejecting a promise which was not handled with .catch(). (rejection id: 1)\n",
      "(node:7332) [DEP0018] DeprecationWarning: Unhandled promise rejections are deprecated. In the future, promise rejections that are not handled will terminate the Node.js process with a non-zero exit code.\n"
     ]
    }
   ],
   "source": [
    "var client = new ds.DarkSkyClient(settings);\n",
    "var forecast = client.getForecast(38.3712378, -78.7322446);"
   ]
  },
  {
   "cell_type": "code",
   "execution_count": null,
   "metadata": {},
   "outputs": [],
   "source": []
  }
 ],
 "metadata": {
  "kernelspec": {
   "display_name": "Javascript (Node.js)",
   "language": "javascript",
   "name": "javascript"
  },
  "language_info": {
   "file_extension": ".js",
   "mimetype": "application/javascript",
   "name": "javascript",
   "version": "10.16.1"
  }
 },
 "nbformat": 4,
 "nbformat_minor": 2
}
