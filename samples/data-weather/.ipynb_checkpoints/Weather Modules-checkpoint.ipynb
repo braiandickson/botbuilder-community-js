{
 "cells": [
  {
   "cell_type": "code",
   "execution_count": 1,
   "metadata": {},
   "outputs": [],
   "source": [
    "var ds = require('../../libraries/botbuilder-data-weather-darksky/lib/index')"
   ]
  },
  {
   "cell_type": "code",
   "execution_count": null,
   "metadata": {},
   "outputs": [],
   "source": []
  }
 ],
 "metadata": {
  "kernelspec": {
   "display_name": "Javascript (Node.js)",
   "language": "javascript",
   "name": "javascript"
  },
  "language_info": {
   "file_extension": ".js",
   "mimetype": "application/javascript",
   "name": "javascript",
   "version": "10.16.1"
  }
 },
 "nbformat": 4,
 "nbformat_minor": 2
}
